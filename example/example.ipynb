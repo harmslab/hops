{
 "cells": [
  {
   "cell_type": "code",
   "execution_count": 1,
   "metadata": {
    "collapsed": false
   },
   "outputs": [],
   "source": [
    "%matplotlib inline\n",
    "from matplotlib import pyplot as plt\n",
    "import numpy as np\n",
    "import sklearn\n",
    "\n",
    "import peplearn as pl"
   ]
  },
  {
   "cell_type": "code",
   "execution_count": 2,
   "metadata": {
    "collapsed": false
   },
   "outputs": [],
   "source": [
    "# 595 different physiochemical properties.  flip pattern adds 595 more. \n",
    "# sliding window adss 595*(L + L-1 + L-2 ... L - (L-1)) -> 45815 for a 12 aa peptide\n",
    "simple_features = pl.features.SimpleFeatures(use_flip_pattern=True,\n",
    "                                             use_sliding_windows=2)\n",
    "\n",
    "# Set of 28 cider parameters (isoelectric point, kappa, fx proline, etc.)\n",
    "cider_features = pl.features.CiderFeatures(use_sliding_windows=True)"
   ]
  },
  {
   "cell_type": "code",
   "execution_count": 3,
   "metadata": {
    "collapsed": false
   },
   "outputs": [],
   "source": [
    "obs = pl.Observations(\"hA5_seqs.txt\")\n",
    "obs.add_features(simple_features)\n",
    "obs.add_features(cider_features)"
   ]
  },
  {
   "cell_type": "code",
   "execution_count": 4,
   "metadata": {
    "collapsed": false,
    "scrolled": false
   },
   "outputs": [
    {
     "ename": "MemoryError",
     "evalue": "",
     "output_type": "error",
     "traceback": [
      "\u001b[0;31m---------------------------------------------------------------------------\u001b[0m",
      "\u001b[0;31mMemoryError\u001b[0m                               Traceback (most recent call last)",
      "\u001b[0;32m<ipython-input-4-eda5c821cf90>\u001b[0m in \u001b[0;36m<module>\u001b[0;34m()\u001b[0m\n\u001b[0;32m----> 1\u001b[0;31m \u001b[0mobs\u001b[0m\u001b[0;34m.\u001b[0m\u001b[0mcalc_features\u001b[0m\u001b[0;34m(\u001b[0m\u001b[0;36m2\u001b[0m\u001b[0;34m)\u001b[0m\u001b[0;34m\u001b[0m\u001b[0m\n\u001b[0m",
      "\u001b[0;32m/usr/local/lib/python3.5/dist-packages/peplearn-0.0.2-py3.5.egg/peplearn/observations.py\u001b[0m in \u001b[0;36mcalc_features\u001b[0;34m(self, num_threads)\u001b[0m\n\u001b[1;32m     76\u001b[0m \u001b[0;34m\u001b[0m\u001b[0m\n\u001b[1;32m     77\u001b[0m         \u001b[0mself\u001b[0m\u001b[0;34m.\u001b[0m\u001b[0m_feature_names\u001b[0m \u001b[0;34m=\u001b[0m \u001b[0mnp\u001b[0m\u001b[0;34m.\u001b[0m\u001b[0mconcatenate\u001b[0m\u001b[0;34m(\u001b[0m\u001b[0mfeature_names\u001b[0m\u001b[0;34m)\u001b[0m\u001b[0;34m\u001b[0m\u001b[0m\n\u001b[0;32m---> 78\u001b[0;31m         \u001b[0mself\u001b[0m\u001b[0;34m.\u001b[0m\u001b[0m_features\u001b[0m \u001b[0;34m=\u001b[0m \u001b[0mnp\u001b[0m\u001b[0;34m.\u001b[0m\u001b[0mzeros\u001b[0m\u001b[0;34m(\u001b[0m\u001b[0;34m(\u001b[0m\u001b[0mlen\u001b[0m\u001b[0;34m(\u001b[0m\u001b[0mself\u001b[0m\u001b[0;34m.\u001b[0m\u001b[0m_raw_values\u001b[0m\u001b[0;34m)\u001b[0m\u001b[0;34m,\u001b[0m\u001b[0mnum_features\u001b[0m\u001b[0;34m)\u001b[0m\u001b[0;34m,\u001b[0m\u001b[0mdtype\u001b[0m\u001b[0;34m=\u001b[0m\u001b[0mfloat\u001b[0m\u001b[0;34m)\u001b[0m\u001b[0;34m\u001b[0m\u001b[0m\n\u001b[0m\u001b[1;32m     79\u001b[0m \u001b[0;34m\u001b[0m\u001b[0m\n\u001b[1;32m     80\u001b[0m         \u001b[0mper_thread\u001b[0m \u001b[0;34m=\u001b[0m \u001b[0mlen\u001b[0m\u001b[0;34m(\u001b[0m\u001b[0mself\u001b[0m\u001b[0;34m.\u001b[0m\u001b[0m_raw_values\u001b[0m\u001b[0;34m)\u001b[0m\u001b[0;34m//\u001b[0m\u001b[0mnum_threads\u001b[0m\u001b[0;34m\u001b[0m\u001b[0m\n",
      "\u001b[0;31mMemoryError\u001b[0m: "
     ]
    }
   ],
   "source": [
    "obs.calc_features(2)"
   ]
  },
  {
   "cell_type": "code",
   "execution_count": null,
   "metadata": {
    "collapsed": false
   },
   "outputs": [],
   "source": [
    "weights = np.exp(-obs.training_values) # in this dataset, -log is good."
   ]
  },
  {
   "cell_type": "code",
   "execution_count": null,
   "metadata": {
    "collapsed": false
   },
   "outputs": [],
   "source": [
    "from sklearn import ensemble\n",
    "\n",
    "fst = sklearn.ensemble.RandomForestRegressor(n_estimators=40)\n",
    "\n",
    "fst.fit(obs.training_features, obs.training_values,sample_weight=weights) \n",
    "pl.plot.correlation(obs,fst)\n",
    "\n",
    "print(\"n: {:d}, r2: {:.3f}\".format(fst.n_estimators,fst.score(obs.test_features,obs.test_values)))\n",
    "\n",
    "order = np.argsort(fst.feature_importances_)\n",
    "order = order[::-1]\n",
    "for i in order[:20]:\n",
    "    print(\"{:>25s}{:6.2f}\".format(obs.feature_names[i],100*fst.feature_importances_[i]))"
   ]
  },
  {
   "cell_type": "code",
   "execution_count": null,
   "metadata": {
    "collapsed": true
   },
   "outputs": [],
   "source": []
  },
  {
   "cell_type": "code",
   "execution_count": null,
   "metadata": {
    "collapsed": false,
    "scrolled": false
   },
   "outputs": [],
   "source": [
    "from sklearn import tree \n",
    "\n",
    "# UNCOMMENT YOUR FAVORITE DECISION TREE TO TRY\n",
    "\n",
    "tre = sklearn.tree.DecisionTreeRegressor()\n",
    "#tre = sklearn.tree.ExtraTreeRegressor()\n",
    "\n",
    "tre.fit(obs.training_features, obs.training_values) \n",
    "pl.plot.correlation(obs,tre)"
   ]
  },
  {
   "cell_type": "code",
   "execution_count": null,
   "metadata": {
    "collapsed": false
   },
   "outputs": [],
   "source": [
    "from sklearn import linear_model\n",
    "\n",
    "# UNCOMMENT YOUR FAVORITE LINEAR MODEL TO TRY\n",
    "\n",
    "clf = sklearn.linear_model.BayesianRidge(alpha_1=0.0001)\n",
    "#clf = sklearn.linear_model.ElasticNet()\n",
    "#clf = sklearn.linear_model.LassoLars(alpha=0.1)\n",
    "#clf = sklearn.linear_model.Perceptron() # requires classes\n",
    "#clf = sklearn.linear_model.PassiveAggressiveRegressor()\n",
    "#clf = sklearn.linear_model.RANSACRegressor()\n",
    "#clf = sklearn.linear_model.SGDRegressor()\n",
    "\n",
    "clf.fit(obs.training_features, obs.training_values) \n",
    "pl.plot.correlation(obs,clf)"
   ]
  },
  {
   "cell_type": "code",
   "execution_count": null,
   "metadata": {
    "collapsed": false
   },
   "outputs": [],
   "source": [
    "from sklearn import svm\n",
    "\n",
    "# UNCOMMENT YOUR FAVORITE SUPPORT VECTOR MACHINE TO TRY\n",
    "\n",
    "sv = sklearn.svm.SVR()\n",
    "#sv = sklearn.svm.NuSVR()\n",
    "\n",
    "sv.fit(obs.training_features, obs.training_values) \n",
    "pl.plot.correlation(obs,sv)"
   ]
  },
  {
   "cell_type": "code",
   "execution_count": null,
   "metadata": {
    "collapsed": true
   },
   "outputs": [],
   "source": []
  }
 ],
 "metadata": {
  "kernelspec": {
   "display_name": "Python 3",
   "language": "python",
   "name": "python3"
  },
  "language_info": {
   "codemirror_mode": {
    "name": "ipython",
    "version": 3
   },
   "file_extension": ".py",
   "mimetype": "text/x-python",
   "name": "python",
   "nbconvert_exporter": "python",
   "pygments_lexer": "ipython3",
   "version": "3.5.2"
  }
 },
 "nbformat": 4,
 "nbformat_minor": 0
}
